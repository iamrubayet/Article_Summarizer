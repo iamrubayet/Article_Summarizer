{
  "nbformat": 4,
  "nbformat_minor": 0,
  "metadata": {
    "colab": {
      "name": "article_summarizer.ipynb",
      "provenance": [],
      "collapsed_sections": []
    },
    "kernelspec": {
      "name": "python3",
      "display_name": "Python 3"
    }
  },
  "cells": [
    {
      "cell_type": "code",
      "metadata": {
        "id": "rnmwtpKGRUWX",
        "colab_type": "code",
        "colab": {}
      },
      "source": [
        "#this program summarizes news articles"
      ],
      "execution_count": 0,
      "outputs": []
    },
    {
      "cell_type": "code",
      "metadata": {
        "id": "VFqzx9vNVV7o",
        "colab_type": "code",
        "colab": {}
      },
      "source": [
        "pip install nltk"
      ],
      "execution_count": 0,
      "outputs": []
    },
    {
      "cell_type": "code",
      "metadata": {
        "id": "NImJgwo7XcBn",
        "colab_type": "code",
        "colab": {}
      },
      "source": [
        "pip install newspaper3k\n"
      ],
      "execution_count": 0,
      "outputs": []
    },
    {
      "cell_type": "code",
      "metadata": {
        "id": "Qoj9JT2rYAB4",
        "colab_type": "code",
        "colab": {}
      },
      "source": [
        "#import the libraries\n",
        "import nltk\n",
        "from newspaper import Article"
      ],
      "execution_count": 0,
      "outputs": []
    },
    {
      "cell_type": "code",
      "metadata": {
        "id": "8R_bybhrYVUw",
        "colab_type": "code",
        "colab": {}
      },
      "source": [
        "#getting the article\n",
        "url = 'https://www.barcablaugranes.com/2020/1/13/21063370/fc-barcelona-news-13-january-2020-ernesto-valverde-latest-barca-eye-luis-suarez-replacement'\n",
        "article = Article(url)"
      ],
      "execution_count": 0,
      "outputs": []
    },
    {
      "cell_type": "code",
      "metadata": {
        "id": "9ymSQMldZj36",
        "colab_type": "code",
        "colab": {}
      },
      "source": [
        "#do some NLP\n",
        "article.download()\n",
        "article.parse()\n",
        "nltk.download('punkt')\n",
        "article.nlp()"
      ],
      "execution_count": 0,
      "outputs": []
    },
    {
      "cell_type": "code",
      "metadata": {
        "id": "-kbQjwYlaQFt",
        "colab_type": "code",
        "colab": {}
      },
      "source": [
        "#get the authors\n",
        "article.authors"
      ],
      "execution_count": 0,
      "outputs": []
    },
    {
      "cell_type": "code",
      "metadata": {
        "id": "R8r1Sy5pbGDR",
        "colab_type": "code",
        "colab": {}
      },
      "source": [
        "#get the publish date\n",
        "article.publish_date"
      ],
      "execution_count": 0,
      "outputs": []
    },
    {
      "cell_type": "code",
      "metadata": {
        "id": "73Dei0pvbbUX",
        "colab_type": "code",
        "colab": {}
      },
      "source": [
        "#get the top image\n",
        "article.top_image"
      ],
      "execution_count": 0,
      "outputs": []
    },
    {
      "cell_type": "code",
      "metadata": {
        "id": "pasatYw-b0qw",
        "colab_type": "code",
        "colab": {}
      },
      "source": [
        "#get the article text\n",
        "print(article.text)"
      ],
      "execution_count": 0,
      "outputs": []
    },
    {
      "cell_type": "code",
      "metadata": {
        "id": "gOLKXh8PcFA_",
        "colab_type": "code",
        "colab": {}
      },
      "source": [
        "#get the summary of the article\n",
        "print(article.summary)"
      ],
      "execution_count": 0,
      "outputs": []
    },
    {
      "cell_type": "code",
      "metadata": {
        "id": "Z8ka0o58clMi",
        "colab_type": "code",
        "colab": {}
      },
      "source": [
        ""
      ],
      "execution_count": 0,
      "outputs": []
    },
    {
      "cell_type": "code",
      "metadata": {
        "id": "xhrNfmjuYDqC",
        "colab_type": "code",
        "colab": {}
      },
      "source": [
        ""
      ],
      "execution_count": 0,
      "outputs": []
    }
  ]
}